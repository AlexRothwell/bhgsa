{
 "cells": [
  {
   "cell_type": "code",
   "execution_count": 1,
   "metadata": {
    "collapsed": false,
    "scrolled": false
   },
   "outputs": [],
   "source": [
    "import gsa\n",
    "import functions"
   ]
  },
  {
   "cell_type": "code",
   "execution_count": 5,
   "metadata": {
    "collapsed": false
   },
   "outputs": [
    {
     "name": "stdout",
     "output_type": "stream",
     "text": [
      "Processing problem 1\n",
      "Processing problem 2\n",
      "Processing problem 3\n",
      "Processing problem 4\n",
      "Processing problem 5\n",
      "Processing problem 6\n",
      "Processing problem 7\n",
      "Processing problem 8\n",
      "Processing problem 9\n",
      "Processing problem 10\n",
      "Processing problem 11\n",
      "Processing problem 12\n",
      "Processing problem 13\n",
      "Processing problem 14\n",
      "Processing problem 15\n",
      "Processing problem 16\n",
      "Processing problem 17\n",
      "Processing problem 18\n",
      "Processing problem 19\n",
      "Processing problem 20\n",
      "Processing problem 21\n",
      "Processing problem 22\n",
      "Processing problem 23\n"
     ]
    }
   ],
   "source": [
    "dims = 30\n",
    "pop_size = 50\n",
    "force = gsa.basicForce\n",
    "condition = gsa.iterationCondition\n",
    "gsa.initOutput(condition)\n",
    "\n",
    "for prob_num in range(1,24):\n",
    "    print(\"Processing problem {0}\".format(prob_num))\n",
    "    func = functions.getFunction(prob_num,dims)\n",
    "    func.desc = str(prob_num) + \"-\" + force.desc\n",
    "    gsa.gsa(func,pop_size,force,condition)"
   ]
  },
  {
   "cell_type": "code",
   "execution_count": null,
   "metadata": {
    "collapsed": false
   },
   "outputs": [],
   "source": []
  }
 ],
 "metadata": {
  "kernelspec": {
   "display_name": "Python 3",
   "language": "python",
   "name": "python3"
  },
  "language_info": {
   "codemirror_mode": {
    "name": "ipython",
    "version": 3
   },
   "file_extension": ".py",
   "mimetype": "text/x-python",
   "name": "python",
   "nbconvert_exporter": "python",
   "pygments_lexer": "ipython3",
   "version": "3.4.3"
  }
 },
 "nbformat": 4,
 "nbformat_minor": 0
}
